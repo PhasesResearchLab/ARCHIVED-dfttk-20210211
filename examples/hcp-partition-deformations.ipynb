{
 "cells": [
  {
   "cell_type": "markdown",
   "metadata": {
    "deletable": true,
    "editable": true
   },
   "source": [
    "# Partition function approach\n",
    "\n",
    "## Goals\n",
    "In this notebook, we will \n",
    "\n",
    "1. Justify the matricies to use for a/c transformations\n",
    "2. Construct a set of transformations that cover the entire space of the cell shape (at least for bcc/omega/hcp Ti)\n",
    "3. Create a workflow to run the structures\n",
    "4. Analyze the results (plotting a 0K surface and finding the minima)\n",
    "5. Construct a workflow to calculation vibrational properties of the selected minima\n",
    "6. Explore how to extend this method (specifically deformations) to any pure element for all the structures of that element in the Materials Project"
   ]
  },
  {
   "cell_type": "code",
   "execution_count": null,
   "metadata": {
    "collapsed": false,
    "deletable": true,
    "editable": true
   },
   "outputs": [],
   "source": [
    "%matplotlib inline\n",
    "import numpy as np\n",
    "import matplotlib.pyplot as plt\n",
    "from pymatgen import Lattice, MPRester"
   ]
  },
  {
   "cell_type": "markdown",
   "metadata": {
    "deletable": true,
    "editable": true
   },
   "source": [
    "## 1. Justify the matricies for a/c transformations\n",
    "\n",
    "We need to find the set of matricies that lets us adjust our a/c ratios, but maintain symmetry. The approach is to create hexagonal lattices with pymatgen, get the matrices and do an inversion and dot product to get the transformation matrix. For the `a` transformation:"
   ]
  },
  {
   "cell_type": "code",
   "execution_count": null,
   "metadata": {
    "collapsed": false,
    "deletable": true,
    "editable": true
   },
   "outputs": [],
   "source": [
    "hcp = Lattice.hexagonal(2,4)\n",
    "a_deformed_hcp = Lattice.hexagonal(2.2 ,4) # 10% increased a hcp lattice\n",
    "transformation_matrix = np.linalg.inv(hcp.matrix).dot(a_deformed_hcp.matrix)\n",
    "print(transformation_matrix)"
   ]
  },
  {
   "cell_type": "markdown",
   "metadata": {
    "deletable": true,
    "editable": true
   },
   "source": [
    "Taking the very small numbers as 0, we can see that the transformation matrix for increasing `a` by 10% is:\n",
    "```\n",
    "[[  1.1  0.0  0.0]\n",
    " [  0.0  1.1  0.0]\n",
    " [  0.0  0.0  1.0]]\n",
    "```\n",
    "or more generally,\n",
    "```\n",
    "[[  1+x  0.0  0.0]\n",
    " [  0.0  1+x  0.0]\n",
    " [  0.0  0.0  1.0]]\n",
    "```\n",
    "where `x` is the deformation fraction.\n",
    "\n",
    "Let's do the same for `c`:"
   ]
  },
  {
   "cell_type": "code",
   "execution_count": null,
   "metadata": {
    "collapsed": false,
    "deletable": true,
    "editable": true
   },
   "outputs": [],
   "source": [
    "c_deformed_hcp = Lattice.hexagonal(2 ,4.4) # 10% increased c hcp lattice\n",
    "transformation_matrix = np.linalg.inv(hcp.matrix).dot(c_deformed_hcp.matrix)\n",
    "print(transformation_matrix)"
   ]
  },
  {
   "cell_type": "markdown",
   "metadata": {
    "deletable": true,
    "editable": true
   },
   "source": [
    "We can generalize this (with the rounding) to a a similar\n",
    "```\n",
    "[[  1.0  0.0  0.0]\n",
    " [  0.0  1.0  0.0]\n",
    " [  0.0  0.0  1+x]]\n",
    "```"
   ]
  },
  {
   "cell_type": "markdown",
   "metadata": {
    "deletable": true,
    "editable": true
   },
   "source": [
    "## 2. Construct a set of transformations that cover the entire space of the cell shape\n",
    "\n",
    "Now that we know how to construct matricies that deform `a` and `c` alone, we can create a list of matrices that form a plane mesh of deformations over the entire `a`-`c` space. "
   ]
  },
  {
   "cell_type": "code",
   "execution_count": null,
   "metadata": {
    "collapsed": false,
    "deletable": true,
    "editable": true
   },
   "outputs": [],
   "source": [
    "mpr = MPRester()\n",
    "# mp-72 is P6/mmm\n",
    "# mp-46 is P6_3/mmc\n",
    "# mp-6985 is Fm-3m\n",
    "# mp-73 is Im-3m\n",
    "hcp_ti = mpr.get_structure_by_material_id('mp-46')\n",
    "omega_ti = mpr.get_structure_by_material_id('mp-72')\n",
    "bcc_ti = mpr.get_structure_by_material_id('mp-73')"
   ]
  },
  {
   "cell_type": "markdown",
   "metadata": {
    "deletable": true,
    "editable": true
   },
   "source": [
    "First we should make sure we can get `a`-`c` limits for hcp/bcc. We'll make a supercell of bcc ([1,1,2]) to make the cell size comparable to the hcp (2 atoms in each). "
   ]
  },
  {
   "cell_type": "code",
   "execution_count": null,
   "metadata": {
    "collapsed": false,
    "deletable": true,
    "editable": true
   },
   "outputs": [],
   "source": [
    "print('HCP a: {:0.3f}\\nHCP c: {:0.3f}'.format(hcp_ti.lattice.a, hcp_ti.lattice.c))\n",
    "\n",
    "bcc_ti_ss = bcc_ti.copy()\n",
    "bcc_ti_ss.make_supercell([1,1,2])\n",
    "print('BCC a: {:0.3f}\\nBCC c: {:0.3f}'.format(bcc_ti_ss.lattice.a, bcc_ti_ss.lattice.c))"
   ]
  },
  {
   "cell_type": "markdown",
   "metadata": {
    "deletable": true,
    "editable": true
   },
   "source": [
    "So we need to get `a` and `b` from 2.939 to 2.816 (0.958 fraction so we should decrease by at least -4.2% deformation would to sufficently deform `a`). For `c`, the hcp cell would need to increase from 4.641 to 5.631 (1.213 fraction, so at least a +21.3% deformation is required).\n",
    "\n",
    "Now to compare hcp and omega, it takes a little more effort to get comparable cell sizes. Supercells of [3,3,2] and [2,2,3] to get 24 atoms in each cell."
   ]
  },
  {
   "cell_type": "code",
   "execution_count": null,
   "metadata": {
    "collapsed": false,
    "deletable": true,
    "editable": true
   },
   "outputs": [],
   "source": [
    "hcp_ti_ss = hcp_ti.copy()\n",
    "hcp_ti_ss.make_supercell([3,3,2])\n",
    "print('HCP   a: {:0.3f}\\nHCP   c: {:0.3f}'.format(hcp_ti_ss.lattice.a, hcp_ti_ss.lattice.c))\n",
    "\n",
    "omega_ti_ss = omega_ti.copy()\n",
    "omega_ti_ss.make_supercell([2,2,3])\n",
    "print('Omega a: {:0.3f}\\nOmega c: {:0.3f}'.format(omega_ti_ss.lattice.a, omega_ti_ss.lattice.c))"
   ]
  },
  {
   "cell_type": "markdown",
   "metadata": {
    "deletable": true,
    "editable": true
   },
   "source": [
    "Similarly, we need to increase the `a` of HCP from 8.817 to 9.154 (+3.8%) and decrease the `c` from 9.282 to 8.486 (-8.6%). Thus the limits are conviently defined as:\n",
    "\n",
    "### Deformation limits\n",
    "\n",
    "The theoretical minimum limits, the proposed limits and proposed number of deformations are:\n",
    "\n",
    "|   |  min |  max | |min | max | n  |\n",
    "|:-:|:----:|:----:| |:---:|:--:|:---:|\n",
    "| a | -4.2 |  3.8 | |-5  | 5  | 10  |\n",
    "| c | -8.6 | 21.3 | |-10 | 25 | 20  |\n"
   ]
  },
  {
   "cell_type": "markdown",
   "metadata": {
    "deletable": true,
    "editable": true
   },
   "source": [
    "## 3. Create a workflow to run the structures\n",
    "\n",
    "We'll construct these deformations matricies, broadcast them to create a mesh of matricies and then create a workflow. Unlike before, we only need one workflow now to match all the cell sizes. \n",
    "# (**Is this true? What about ionic positions?**) "
   ]
  },
  {
   "cell_type": "code",
   "execution_count": null,
   "metadata": {
    "collapsed": false,
    "deletable": true,
    "editable": true
   },
   "outputs": [],
   "source": [
    "# construct matricies\n",
    "a_min = -0.05; a_max = 0.05; a_n = 10\n",
    "a_defos = np.array([np.array([[1+x,0,0],[0,1+x,0],[0,0,1]]) for x in np.linspace(a_min, a_max, a_n)])\n",
    "c_min = -0.10; c_max = 0.25; c_n = 20\n",
    "c_defos = np.array([np.array([[1,0,0],[0,1,0],[0,0,1+x]]) for x in np.linspace(c_min, c_max, c_n)])\n",
    "\n",
    "# broacast the deformation arrays and flatten them\n",
    "broadcasted_defos = a_defos*c_defos[:,np.newaxis]\n",
    "defos = broadcasted_defos.reshape(200, 3, 3)\n",
    "print('{} deformed structures will be calculated.'.format(len(defos)))\n",
    "\n",
    "# create the workflow and load it in launchpad\n",
    "from atomate.vasp.workflows.base.deformations import get_wf_deformations\n",
    "from atomate.vasp.powerups import add_modify_incar, remove_custodian, add_tags\n",
    "from fireworks import LaunchPad\n",
    "\n",
    "API_KEY = None # If None, will use the one from your ~/.pmgrc.yaml. Otherwise string of API_KEY\n",
    "LAUNCHPAD_FILE = '/Users/brandon/.fireworks-remote/my_launchpad.yaml' # If None, will try to autoload from FW_CONFIG_FILE environment variable. Otherwise string of file path\n",
    "MP_ID = 'mp-46' # materials project id of the structure. mp-72 is the P6/mmm Ti\n",
    "# mp-46 is P6_3/mmc\n",
    "# mp-6985 is Fm-3m\n",
    "# mp-73 is Im-3m\n",
    "\n",
    "if API_KEY:\n",
    "    mpr = MPRester(API_KEY)\n",
    "else:\n",
    "    mpr = MPRester()\n",
    "\n",
    "if LAUNCHPAD_FILE:\n",
    "    lpad = LaunchPad.from_file(LAUNCHPAD_FILE)\n",
    "else:\n",
    "    lpad = LaunchPad.auto_load()\n",
    "\n",
    "# here the values in the linspace are the scaling factor for cell volume. E.g. -0.1 = 90%\n",
    "# cubic_transformations = [np.eye(3)*((x+1)**(1.0/3.0)) for x in np.linspace(-0.1, 0.1, number_of_deformations)]\n",
    "\n",
    "# construct the workflow\n",
    "struct = hcp_ti\n",
    "wf = get_wf_deformations(struct, defos, name=\"deformation\", vasp_cmd=\">>vasp_cmd<<\", db_file=\">>db_file<<\")\n",
    "wf = add_modify_incar(wf, modify_incar_params={\"incar_update\":{\"SIGMA\":0.2, \"ISMEAR\":1}}, fw_name_constraint='opt')\n",
    "wf = add_tags(wf, ['partition_function', 'hcp_ti'])\n",
    "lpad.add_wf(wf)"
   ]
  },
  {
   "cell_type": "markdown",
   "metadata": {},
   "source": [
    "# Analyze the results\n",
    "\n",
    "First we'll get all of the data from our database. Then we'll define a function to transform it to something plottable by matplotlib (`mesh()`). Then we'll plot up the data."
   ]
  },
  {
   "cell_type": "code",
   "execution_count": null,
   "metadata": {
    "collapsed": false,
    "deletable": true,
    "editable": true
   },
   "outputs": [],
   "source": [
    "from atomate.vasp.database import MMVaspDb\n",
    "mmdb = MMVaspDb.from_db_file(\"/Users/brandon/.fireworks-remote/db.json\")\n",
    "\n",
    "a_list = []\n",
    "c_list = []\n",
    "energies = []\n",
    "\n",
    "defo_task_ids = range(52, 252)\n",
    "for task_id in defo_task_ids:\n",
    "    task = mmdb.collection.find_one({\"task_id\":task_id})\n",
    "    energies.append(task[\"output\"][\"energy\"])\n",
    "    a_list.append(task[\"output\"][\"structure\"][\"lattice\"][\"a\"])\n",
    "    c_list.append(task[\"output\"][\"structure\"][\"lattice\"][\"c\"])"
   ]
  },
  {
   "cell_type": "code",
   "execution_count": null,
   "metadata": {
    "collapsed": false
   },
   "outputs": [],
   "source": [
    "def mesh(xs, ys, zs):\n",
    "    \"\"\"\n",
    "    Takes 3 1D arrays and returns meshed xs and ys, and reshaped zs. \n",
    "    \n",
    "    Shape is a tuple like in MPL\n",
    "    \n",
    "    Example xs=[1,2,1,2], ys=[0,0,1,1], zs=[1,2,3,4]\"\"\"\n",
    "    xs_unique = np.array(sorted(list(set(xs))))\n",
    "    ys_unique = np.array(sorted(list(set(ys))))\n",
    "    meshed_x, meshed_y = np.meshgrid(xs_unique, ys_unique)\n",
    "    # sort the zs into the correct indices\n",
    "    meshed_z = np.zeros(meshed_x.shape)\n",
    "    for x, y, z in zip(xs, ys, zs):\n",
    "        j = np.argwhere(xs_unique == x)\n",
    "        i = np.argwhere(ys_unique == y)\n",
    "        meshed_z[i,j] = z\n",
    "    return (meshed_x, meshed_y, meshed_z)\n"
   ]
  },
  {
   "cell_type": "code",
   "execution_count": null,
   "metadata": {
    "collapsed": false
   },
   "outputs": [],
   "source": [
    "from mpl_toolkits.mplot3d import Axes3D\n",
    "from matplotlib import cm\n",
    "\n",
    "a, c, energies_m = mesh(a_list, c_list, energies)\n",
    "\n",
    "fig = plt.figure()\n",
    "ax = fig.gca(projection='3d')\n",
    "surf = ax.plot_surface(a, c, energies_m, cmap=cm.viridis)\n",
    "m = cm.ScalarMappable(cmap=cm.viridis)\n",
    "m.set_array(energies)\n",
    "fig.colorbar(m, shrink=0.6, aspect=5)"
   ]
  },
  {
   "cell_type": "markdown",
   "metadata": {},
   "source": [
    "## Analysis\n",
    "\n",
    "It appears that we did not get the nice multiple minima just from changing the a/c ratio. This is what we might expect based on the work of Morten. We'd have to either \n",
    "\n",
    "1. relax the ionic positions at each deformation to the equilibrium structure and energy or\n",
    "2. Do these plots for all the structures and combine them somehow\n",
    "\n",
    "The workflow below will try the first (just for kicks). All we are doing is changing the `relax_deformed` parameter to true in the `get_wf_deformations` and then making sure that we apply Methfessel-Paxton smearing since we are doing a relaxation."
   ]
  },
  {
   "cell_type": "code",
   "execution_count": null,
   "metadata": {
    "collapsed": false
   },
   "outputs": [],
   "source": [
    "struct = hcp_ti\n",
    "wf = get_wf_deformations(struct, defos, name=\"deformation\", vasp_cmd=\">>vasp_cmd<<\", db_file=\">>db_file<<\", relax_deformed=True)\n",
    "wf = add_modify_incar(wf, modify_incar_params={\"incar_update\":{\"SIGMA\":0.2, \"ISMEAR\":1}})\n",
    "wf = add_tags(wf, ['partition_function', 'hcp_ti', 'relax'])\n",
    "lpad.add_wf(wf)"
   ]
  },
  {
   "cell_type": "markdown",
   "metadata": {},
   "source": [
    "Now lets do the same analysis and plotting. The below proves that there was only one ionic step for each."
   ]
  },
  {
   "cell_type": "code",
   "execution_count": null,
   "metadata": {
    "collapsed": false
   },
   "outputs": [],
   "source": [
    "a_list = []\n",
    "c_list = []\n",
    "energies = []\n",
    "\n",
    "defo_task_ids = range(253, 453)\n",
    "for task_id in defo_task_ids:\n",
    "    task = mmdb.collection.find_one({\"task_id\":task_id})\n",
    "    assert 'deformation' in task[\"task_label\"]\n",
    "    assert len(task['calcs_reversed'][0]['output']['ionic_steps']) == 1\n",
    "    energies.append(task[\"output\"][\"energy\"])\n",
    "    a_list.append(task[\"output\"][\"structure\"][\"lattice\"][\"a\"])\n",
    "    c_list.append(task[\"output\"][\"structure\"][\"lattice\"][\"c\"])\n",
    "\n",
    "a, c, energies_m = mesh(a_list, c_list, energies)\n",
    "\n",
    "fig = plt.figure()\n",
    "ax = fig.gca(projection='3d')\n",
    "surf = ax.plot_surface(a, c, energies_m, cmap=cm.viridis)\n",
    "m = cm.ScalarMappable(cmap=cm.viridis)\n",
    "m.set_array(energies)\n",
    "fig.colorbar(m, shrink=0.6, aspect=5)"
   ]
  },
  {
   "cell_type": "markdown",
   "metadata": {},
   "source": [
    "So the next step is to try to perturb them, or make surfaces for the other structures. We will do the second. To get the same range, we will redefine the deformations. The space of our energy surface is the following:"
   ]
  },
  {
   "cell_type": "code",
   "execution_count": null,
   "metadata": {
    "collapsed": false
   },
   "outputs": [],
   "source": [
    "print('Min a: {}'.format(min(a_list)))\n",
    "print('Max a: {}'.format(max(a_list)))\n",
    "print('Min c: {}'.format(min(c_list)))\n",
    "print('Max c: {}'.format(max(c_list)))"
   ]
  },
  {
   "cell_type": "markdown",
   "metadata": {},
   "source": [
    "We are not relaxing here. "
   ]
  },
  {
   "cell_type": "code",
   "execution_count": null,
   "metadata": {
    "collapsed": false
   },
   "outputs": [],
   "source": [
    "# construct matricies\n",
    "a_min = min(a_list)/bcc_ti.lattice.a-1; a_max = max(a_list)/bcc_ti.lattice.a-1; a_n = 10\n",
    "a_defos = np.array([np.array([[1+x,0,0],[0,1+x,0],[0,0,1]]) for x in np.linspace(a_min, a_max, a_n)])\n",
    "c_min = min(c_list)/bcc_ti.lattice.c-1; c_max = max(c_list)/bcc_ti.lattice.c-1; c_n = 20\n",
    "c_defos = np.array([np.array([[1,0,0],[0,1,0],[0,0,1+x]]) for x in np.linspace(c_min, c_max, c_n)])\n",
    "\n",
    "# broacast the deformation arrays and flatten them\n",
    "broadcasted_defos = a_defos*c_defos[:,np.newaxis]\n",
    "defos = broadcasted_defos.reshape(200, 3, 3)\n",
    "\n",
    "struct = bcc_ti\n",
    "wf = get_wf_deformations(struct, defos, name=\"bcc\", vasp_cmd=\">>vasp_cmd<<\", db_file=\">>db_file<<\")\n",
    "wf = add_modify_incar(wf, modify_incar_params={\"incar_update\":{\"SIGMA\":0.2, \"ISMEAR\":1}}, fw_name_constraint='opt')\n",
    "wf = add_tags(wf, ['partition_function', 'bcc_ti'])\n",
    "lpad.add_wf(wf)"
   ]
  },
  {
   "cell_type": "code",
   "execution_count": null,
   "metadata": {
    "collapsed": true
   },
   "outputs": [],
   "source": [
    "# construct matricies\n",
    "a_min = min(a_list)/omega_ti.lattice.a-1; a_max = max(a_list)/omega_ti.lattice.a-1; a_n = 10\n",
    "a_defos = np.array([np.array([[1+x,0,0],[0,1+x,0],[0,0,1]]) for x in np.linspace(a_min, a_max, a_n)])\n",
    "c_min = min(c_list)/omega_ti.lattice.c-1; c_max = max(c_list)/omega_ti.lattice.c-1; c_n = 20\n",
    "c_defos = np.array([np.array([[1,0,0],[0,1,0],[0,0,1+x]]) for x in np.linspace(c_min, c_max, c_n)])\n",
    "\n",
    "# broacast the deformation arrays and flatten them\n",
    "broadcasted_defos = a_defos*c_defos[:,np.newaxis]\n",
    "defos = broadcasted_defos.reshape(200, 3, 3)\n",
    "\n",
    "struct = omega_ti\n",
    "wf = get_wf_deformations(struct, defos, name=\"omega\", vasp_cmd=\">>vasp_cmd<<\", db_file=\">>db_file<<\")\n",
    "wf = add_modify_incar(wf, modify_incar_params={\"incar_update\":{\"SIGMA\":0.2, \"ISMEAR\":1}}, fw_name_constraint='opt')\n",
    "wf = add_tags(wf, ['partition_function', 'omega_ti'])\n",
    "lpad.add_wf(wf)"
   ]
  },
  {
   "cell_type": "code",
   "execution_count": null,
   "metadata": {
    "collapsed": true
   },
   "outputs": [],
   "source": []
  },
  {
   "cell_type": "code",
   "execution_count": null,
   "metadata": {
    "collapsed": true
   },
   "outputs": [],
   "source": []
  }
 ],
 "metadata": {
  "kernelspec": {
   "display_name": "Python 3",
   "language": "python",
   "name": "python3"
  },
  "language_info": {
   "codemirror_mode": {
    "name": "ipython",
    "version": 3
   },
   "file_extension": ".py",
   "mimetype": "text/x-python",
   "name": "python",
   "nbconvert_exporter": "python",
   "pygments_lexer": "ipython3",
   "version": "3.6.0"
  }
 },
 "nbformat": 4,
 "nbformat_minor": 0
}
