{
 "cells": [
  {
   "cell_type": "markdown",
   "metadata": {
    "deletable": true,
    "editable": true
   },
   "source": [
    "# Partition function approach\n",
    "\n",
    "## Goals\n",
    "In this notebook, we will \n",
    "\n",
    "1. Justify the matricies to use for a/c transformations\n",
    "2. Construct a set of transformations that cover the entire space of the cell shape (at least for bcc/omega/hcp Ti)\n",
    "3. Create a workflow to run the structures\n",
    "4. Analyze the results (plotting a 0K surface and finding the minima)\n",
    "5. Construct a workflow to calculation vibrational properties of the selected minima\n",
    "6. Explore how to extend this method (specifically deformations) to any pure element for all the structures of that element in the Materials Project"
   ]
  },
  {
   "cell_type": "code",
   "execution_count": 1,
   "metadata": {
    "collapsed": false,
    "deletable": true,
    "editable": true
   },
   "outputs": [
    {
     "name": "stderr",
     "output_type": "stream",
     "text": [
      "/Users/brandon/.virtualenvs/atomate/lib/python2.7/site-packages/pymatgen/__init__.py:34: UserWarning: With effect from pmg 5.0, all pymatgen settings are prefixed with a \"PMG_\". E.g., \"PMG_VASP_PSP_DIR\" instead of \"VASP_PSP_DIR\".\n",
      "  warnings.warn('With effect from pmg 5.0, all pymatgen settings are'\n"
     ]
    }
   ],
   "source": [
    "%matplotlib inline\n",
    "import numpy as np\n",
    "import matplotlib.pyplot as plt\n",
    "from pymatgen import Lattice, MPRester"
   ]
  },
  {
   "cell_type": "markdown",
   "metadata": {
    "deletable": true,
    "editable": true
   },
   "source": [
    "## 1. Justify the matricies for a/c transformations\n",
    "\n",
    "We need to find the set of matricies that lets us adjust our a/c ratios, but maintain symmetry. The approach is to create hexagonal lattices with pymatgen, get the matrices and do an inversion and dot product to get the transformation matrix. For the `a` transformation:"
   ]
  },
  {
   "cell_type": "code",
   "execution_count": 2,
   "metadata": {
    "collapsed": false,
    "deletable": true,
    "editable": true
   },
   "outputs": [
    {
     "name": "stdout",
     "output_type": "stream",
     "text": [
      "[[  1.10000000e+00   0.00000000e+00   6.12323400e-18]\n",
      " [  1.63781057e-17   1.10000000e+00   1.06057524e-17]\n",
      " [  0.00000000e+00   0.00000000e+00   1.00000000e+00]]\n"
     ]
    }
   ],
   "source": [
    "hcp = Lattice.hexagonal(2,4)\n",
    "a_deformed_hcp = Lattice.hexagonal(2.2 ,4) # 10% increased a hcp lattice\n",
    "transformation_matrix = np.linalg.inv(hcp.matrix).dot(a_deformed_hcp.matrix)\n",
    "print(transformation_matrix)"
   ]
  },
  {
   "cell_type": "markdown",
   "metadata": {
    "deletable": true,
    "editable": true
   },
   "source": [
    "Taking the very small numbers as 0, we can see that the transformation matrix for increasing `a` by 10% is:\n",
    "```\n",
    "[[  1.1  0.0  0.0]\n",
    " [  0.0  1.1  0.0]\n",
    " [  0.0  0.0  1.0]]\n",
    "```\n",
    "or more generally,\n",
    "```\n",
    "[[  1+x  0.0  0.0]\n",
    " [  0.0  1+x  0.0]\n",
    " [  0.0  0.0  1.0]]\n",
    "```\n",
    "where `x` is the deformation fraction.\n",
    "\n",
    "Let's do the same for `c`:"
   ]
  },
  {
   "cell_type": "code",
   "execution_count": 3,
   "metadata": {
    "collapsed": false,
    "deletable": true,
    "editable": true
   },
   "outputs": [
    {
     "name": "stdout",
     "output_type": "stream",
     "text": [
      "[[  1.00000000e+00   0.00000000e+00  -6.12323400e-18]\n",
      " [  3.43504199e-17   1.00000000e+00  -1.06057524e-17]\n",
      " [  0.00000000e+00   0.00000000e+00   1.10000000e+00]]\n"
     ]
    }
   ],
   "source": [
    "c_deformed_hcp = Lattice.hexagonal(2 ,4.4) # 10% increased c hcp lattice\n",
    "transformation_matrix = np.linalg.inv(hcp.matrix).dot(c_deformed_hcp.matrix)\n",
    "print(transformation_matrix)"
   ]
  },
  {
   "cell_type": "markdown",
   "metadata": {
    "deletable": true,
    "editable": true
   },
   "source": [
    "We can generalize this (with the rounding) to a a similar\n",
    "```\n",
    "[[  1.0  0.0  0.0]\n",
    " [  0.0  1.0  0.0]\n",
    " [  0.0  0.0  1+x]]\n",
    "```"
   ]
  },
  {
   "cell_type": "markdown",
   "metadata": {
    "deletable": true,
    "editable": true
   },
   "source": [
    "## 2. Construct a set of transformations that cover the entire space of the cell shape\n",
    "\n",
    "Now that we know how to construct matricies that deform `a` and `c` alone, we can create a list of matrices that form a plane mesh of deformations over the entire `a`-`c` space. "
   ]
  },
  {
   "cell_type": "code",
   "execution_count": 4,
   "metadata": {
    "collapsed": false,
    "deletable": true,
    "editable": true
   },
   "outputs": [],
   "source": [
    "mpr = MPRester()\n",
    "# mp-72 is P6/mmm\n",
    "# mp-46 is P6_3/mmc\n",
    "# mp-6985 is Fm-3m\n",
    "# mp-73 is Im-3m\n",
    "hcp_ti = mpr.get_structure_by_material_id('mp-46')\n",
    "omega_ti = mpr.get_structure_by_material_id('mp-72')\n",
    "bcc_ti = mpr.get_structure_by_material_id('mp-73')"
   ]
  },
  {
   "cell_type": "markdown",
   "metadata": {
    "deletable": true,
    "editable": true
   },
   "source": [
    "First we should make sure we can get `a`-`c` limits for hcp/bcc. We'll make a supercell of bcc ([1,1,2]) to make the cell size comparable to the hcp (2 atoms in each). "
   ]
  },
  {
   "cell_type": "code",
   "execution_count": 5,
   "metadata": {
    "collapsed": false,
    "deletable": true,
    "editable": true
   },
   "outputs": [
    {
     "name": "stdout",
     "output_type": "stream",
     "text": [
      "HCP a: 2.939\n",
      "HCP c: 4.641\n",
      "BCC a: 2.816\n",
      "BCC c: 5.632\n"
     ]
    }
   ],
   "source": [
    "print('HCP a: {:0.3f}\\nHCP c: {:0.3f}'.format(hcp_ti.lattice.a, hcp_ti.lattice.c))\n",
    "\n",
    "bcc_ti_ss = bcc_ti.copy()\n",
    "bcc_ti_ss.make_supercell([1,1,2])\n",
    "print('BCC a: {:0.3f}\\nBCC c: {:0.3f}'.format(bcc_ti_ss.lattice.a, bcc_ti_ss.lattice.c))"
   ]
  },
  {
   "cell_type": "markdown",
   "metadata": {
    "deletable": true,
    "editable": true
   },
   "source": [
    "So we need to get `a` and `b` from 2.939 to 2.816 (0.958 fraction so we should decrease by at least -4.2% deformation would to sufficently deform `a`). For `c`, the hcp cell would need to increase from 4.641 to 5.631 (1.213 fraction, so at least a +21.3% deformation is required).\n",
    "\n",
    "Now to compare hcp and omega, it takes a little more effort to get comparable cell sizes. Supercells of [3,3,2] and [2,2,3] to get 24 atoms in each cell."
   ]
  },
  {
   "cell_type": "code",
   "execution_count": 6,
   "metadata": {
    "collapsed": false,
    "deletable": true,
    "editable": true
   },
   "outputs": [
    {
     "name": "stdout",
     "output_type": "stream",
     "text": [
      "HCP   a: 8.817\n",
      "HCP   c: 9.282\n",
      "Omega a: 9.154\n",
      "Omega c: 8.486\n"
     ]
    }
   ],
   "source": [
    "hcp_ti_ss = hcp_ti.copy()\n",
    "hcp_ti_ss.make_supercell([3,3,2])\n",
    "print('HCP   a: {:0.3f}\\nHCP   c: {:0.3f}'.format(hcp_ti_ss.lattice.a, hcp_ti_ss.lattice.c))\n",
    "\n",
    "omega_ti_ss = omega_ti.copy()\n",
    "omega_ti_ss.make_supercell([2,2,3])\n",
    "print('Omega a: {:0.3f}\\nOmega c: {:0.3f}'.format(omega_ti_ss.lattice.a, omega_ti_ss.lattice.c))"
   ]
  },
  {
   "cell_type": "markdown",
   "metadata": {
    "deletable": true,
    "editable": true
   },
   "source": [
    "Similarly, we need to increase the `a` of HCP from 8.817 to 9.154 (+3.8%) and decrease the `c` from 9.282 to 8.486 (-8.6%). Thus the limits are conviently defined as:\n",
    "\n",
    "### Deformation limits\n",
    "\n",
    "The theoretical minimum limits, the proposed limits and proposed number of deformations are:\n",
    "\n",
    "|   |  min |  max | |min | max | n  |\n",
    "|:-:|:----:|:----:| |:---:|:--:|:---:|\n",
    "| a | -4.2 |  3.8 | |-5  | 5  | 10  |\n",
    "| c | -8.6 | 21.3 | |-10 | 25 | 20  |\n"
   ]
  },
  {
   "cell_type": "markdown",
   "metadata": {
    "deletable": true,
    "editable": true
   },
   "source": [
    "## 3. Create a workflow to run the structures\n",
    "\n",
    "We'll construct these deformations matricies, broadcast them to create a mesh of matricies and then create a workflow. Unlike before, we only need one workflow now to match all the cell sizes. \n",
    "# (**Is this true? What about ionic positions?**) "
   ]
  },
  {
   "cell_type": "code",
   "execution_count": 17,
   "metadata": {
    "collapsed": false,
    "deletable": true,
    "editable": true
   },
   "outputs": [
    {
     "name": "stdout",
     "output_type": "stream",
     "text": [
      "200 deformed structures will be calculated.\n",
      "2017-03-15 11:54:49,541 INFO Added a workflow. id_map: {-1536: 1012, -1535: 1013, -1534: 1014, -1533: 1015, -1532: 1016, -1531: 1017, -1530: 1018, -1529: 1019, -1528: 1020, -1527: 1021, -1526: 1022, -1525: 1023, -1524: 1024, -1523: 1025, -1522: 1026, -1521: 1027, -1520: 1028, -1519: 1029, -1518: 1030, -1517: 1031, -1516: 1032, -1515: 1033, -1514: 1034, -1513: 1035, -1512: 1036, -1511: 1037, -1510: 1038, -1509: 1039, -1508: 1040, -1507: 1041, -1506: 1042, -1505: 1043, -1504: 1044, -1503: 1045, -1502: 1046, -1501: 1047, -1500: 1048, -1499: 1049, -1498: 1050, -1497: 1051, -1496: 1052, -1495: 1053, -1494: 1054, -1493: 1055, -1492: 1056, -1491: 1057, -1490: 1058, -1489: 1059, -1488: 1060, -1487: 1061, -1486: 1062, -1485: 1063, -1484: 1064, -1483: 1065, -1482: 1066, -1481: 1067, -1480: 1068, -1479: 1069, -1478: 1070, -1477: 1071, -1476: 1072, -1475: 1073, -1474: 1074, -1473: 1075, -1472: 1076, -1471: 1077, -1470: 1078, -1469: 1079, -1468: 1080, -1467: 1081, -1466: 1082, -1465: 1083, -1464: 1084, -1463: 1085, -1462: 1086, -1461: 1087, -1460: 1088, -1459: 1089, -1458: 1090, -1457: 1091, -1456: 1092, -1455: 1093, -1454: 1094, -1453: 1095, -1452: 1096, -1451: 1097, -1450: 1098, -1449: 1099, -1448: 1100, -1447: 1101, -1446: 1102, -1445: 1103, -1444: 1104, -1443: 1105, -1442: 1106, -1441: 1107, -1440: 1108, -1439: 1109, -1438: 1110, -1437: 1111, -1436: 1112, -1435: 1113, -1434: 1114, -1433: 1115, -1432: 1116, -1431: 1117, -1430: 1118, -1429: 1119, -1428: 1120, -1427: 1121, -1426: 1122, -1425: 1123, -1424: 1124, -1423: 1125, -1422: 1126, -1421: 1127, -1420: 1128, -1419: 1129, -1418: 1130, -1417: 1131, -1416: 1132, -1415: 1133, -1414: 1134, -1413: 1135, -1412: 1136, -1411: 1137, -1611: 937, -1610: 938, -1609: 939, -1608: 940, -1607: 941, -1606: 942, -1605: 943, -1604: 944, -1603: 945, -1602: 946, -1601: 947, -1600: 948, -1599: 949, -1598: 950, -1597: 951, -1596: 952, -1595: 953, -1594: 954, -1593: 955, -1592: 956, -1591: 957, -1590: 958, -1589: 959, -1588: 960, -1587: 961, -1586: 962, -1585: 963, -1584: 964, -1583: 965, -1582: 966, -1581: 967, -1580: 968, -1579: 969, -1578: 970, -1577: 971, -1576: 972, -1575: 973, -1574: 974, -1573: 975, -1572: 976, -1571: 977, -1570: 978, -1569: 979, -1568: 980, -1567: 981, -1566: 982, -1565: 983, -1564: 984, -1563: 985, -1562: 986, -1561: 987, -1560: 988, -1559: 989, -1558: 990, -1557: 991, -1556: 992, -1555: 993, -1554: 994, -1553: 995, -1552: 996, -1551: 997, -1550: 998, -1549: 999, -1548: 1000, -1547: 1001, -1546: 1002, -1545: 1003, -1544: 1004, -1543: 1005, -1542: 1006, -1541: 1007, -1540: 1008, -1539: 1009, -1538: 1010, -1537: 1011}\n"
     ]
    },
    {
     "data": {
      "text/plain": [
       "{-1611: 937,\n",
       " -1610: 938,\n",
       " -1609: 939,\n",
       " -1608: 940,\n",
       " -1607: 941,\n",
       " -1606: 942,\n",
       " -1605: 943,\n",
       " -1604: 944,\n",
       " -1603: 945,\n",
       " -1602: 946,\n",
       " -1601: 947,\n",
       " -1600: 948,\n",
       " -1599: 949,\n",
       " -1598: 950,\n",
       " -1597: 951,\n",
       " -1596: 952,\n",
       " -1595: 953,\n",
       " -1594: 954,\n",
       " -1593: 955,\n",
       " -1592: 956,\n",
       " -1591: 957,\n",
       " -1590: 958,\n",
       " -1589: 959,\n",
       " -1588: 960,\n",
       " -1587: 961,\n",
       " -1586: 962,\n",
       " -1585: 963,\n",
       " -1584: 964,\n",
       " -1583: 965,\n",
       " -1582: 966,\n",
       " -1581: 967,\n",
       " -1580: 968,\n",
       " -1579: 969,\n",
       " -1578: 970,\n",
       " -1577: 971,\n",
       " -1576: 972,\n",
       " -1575: 973,\n",
       " -1574: 974,\n",
       " -1573: 975,\n",
       " -1572: 976,\n",
       " -1571: 977,\n",
       " -1570: 978,\n",
       " -1569: 979,\n",
       " -1568: 980,\n",
       " -1567: 981,\n",
       " -1566: 982,\n",
       " -1565: 983,\n",
       " -1564: 984,\n",
       " -1563: 985,\n",
       " -1562: 986,\n",
       " -1561: 987,\n",
       " -1560: 988,\n",
       " -1559: 989,\n",
       " -1558: 990,\n",
       " -1557: 991,\n",
       " -1556: 992,\n",
       " -1555: 993,\n",
       " -1554: 994,\n",
       " -1553: 995,\n",
       " -1552: 996,\n",
       " -1551: 997,\n",
       " -1550: 998,\n",
       " -1549: 999,\n",
       " -1548: 1000,\n",
       " -1547: 1001,\n",
       " -1546: 1002,\n",
       " -1545: 1003,\n",
       " -1544: 1004,\n",
       " -1543: 1005,\n",
       " -1542: 1006,\n",
       " -1541: 1007,\n",
       " -1540: 1008,\n",
       " -1539: 1009,\n",
       " -1538: 1010,\n",
       " -1537: 1011,\n",
       " -1536: 1012,\n",
       " -1535: 1013,\n",
       " -1534: 1014,\n",
       " -1533: 1015,\n",
       " -1532: 1016,\n",
       " -1531: 1017,\n",
       " -1530: 1018,\n",
       " -1529: 1019,\n",
       " -1528: 1020,\n",
       " -1527: 1021,\n",
       " -1526: 1022,\n",
       " -1525: 1023,\n",
       " -1524: 1024,\n",
       " -1523: 1025,\n",
       " -1522: 1026,\n",
       " -1521: 1027,\n",
       " -1520: 1028,\n",
       " -1519: 1029,\n",
       " -1518: 1030,\n",
       " -1517: 1031,\n",
       " -1516: 1032,\n",
       " -1515: 1033,\n",
       " -1514: 1034,\n",
       " -1513: 1035,\n",
       " -1512: 1036,\n",
       " -1511: 1037,\n",
       " -1510: 1038,\n",
       " -1509: 1039,\n",
       " -1508: 1040,\n",
       " -1507: 1041,\n",
       " -1506: 1042,\n",
       " -1505: 1043,\n",
       " -1504: 1044,\n",
       " -1503: 1045,\n",
       " -1502: 1046,\n",
       " -1501: 1047,\n",
       " -1500: 1048,\n",
       " -1499: 1049,\n",
       " -1498: 1050,\n",
       " -1497: 1051,\n",
       " -1496: 1052,\n",
       " -1495: 1053,\n",
       " -1494: 1054,\n",
       " -1493: 1055,\n",
       " -1492: 1056,\n",
       " -1491: 1057,\n",
       " -1490: 1058,\n",
       " -1489: 1059,\n",
       " -1488: 1060,\n",
       " -1487: 1061,\n",
       " -1486: 1062,\n",
       " -1485: 1063,\n",
       " -1484: 1064,\n",
       " -1483: 1065,\n",
       " -1482: 1066,\n",
       " -1481: 1067,\n",
       " -1480: 1068,\n",
       " -1479: 1069,\n",
       " -1478: 1070,\n",
       " -1477: 1071,\n",
       " -1476: 1072,\n",
       " -1475: 1073,\n",
       " -1474: 1074,\n",
       " -1473: 1075,\n",
       " -1472: 1076,\n",
       " -1471: 1077,\n",
       " -1470: 1078,\n",
       " -1469: 1079,\n",
       " -1468: 1080,\n",
       " -1467: 1081,\n",
       " -1466: 1082,\n",
       " -1465: 1083,\n",
       " -1464: 1084,\n",
       " -1463: 1085,\n",
       " -1462: 1086,\n",
       " -1461: 1087,\n",
       " -1460: 1088,\n",
       " -1459: 1089,\n",
       " -1458: 1090,\n",
       " -1457: 1091,\n",
       " -1456: 1092,\n",
       " -1455: 1093,\n",
       " -1454: 1094,\n",
       " -1453: 1095,\n",
       " -1452: 1096,\n",
       " -1451: 1097,\n",
       " -1450: 1098,\n",
       " -1449: 1099,\n",
       " -1448: 1100,\n",
       " -1447: 1101,\n",
       " -1446: 1102,\n",
       " -1445: 1103,\n",
       " -1444: 1104,\n",
       " -1443: 1105,\n",
       " -1442: 1106,\n",
       " -1441: 1107,\n",
       " -1440: 1108,\n",
       " -1439: 1109,\n",
       " -1438: 1110,\n",
       " -1437: 1111,\n",
       " -1436: 1112,\n",
       " -1435: 1113,\n",
       " -1434: 1114,\n",
       " -1433: 1115,\n",
       " -1432: 1116,\n",
       " -1431: 1117,\n",
       " -1430: 1118,\n",
       " -1429: 1119,\n",
       " -1428: 1120,\n",
       " -1427: 1121,\n",
       " -1426: 1122,\n",
       " -1425: 1123,\n",
       " -1424: 1124,\n",
       " -1423: 1125,\n",
       " -1422: 1126,\n",
       " -1421: 1127,\n",
       " -1420: 1128,\n",
       " -1419: 1129,\n",
       " -1418: 1130,\n",
       " -1417: 1131,\n",
       " -1416: 1132,\n",
       " -1415: 1133,\n",
       " -1414: 1134,\n",
       " -1413: 1135,\n",
       " -1412: 1136,\n",
       " -1411: 1137}"
      ]
     },
     "execution_count": 17,
     "metadata": {},
     "output_type": "execute_result"
    }
   ],
   "source": [
    "# construct matricies\n",
    "a_min = -0.05; a_max = 0.05; a_n = 10\n",
    "a_defos = np.array([np.array([[1+x,0,0],[0,1+x,0],[0,0,1]]) for x in np.linspace(a_min, a_max, a_n)])\n",
    "c_min = -0.10; c_max = 0.25; c_n = 20\n",
    "c_defos = np.array([np.array([[1,0,0],[0,1,0],[0,0,1+x]]) for x in np.linspace(c_min, c_max, c_n)])\n",
    "\n",
    "# broacast the deformation arrays and flatten them\n",
    "broadcasted_defos = a_defos*c_defos[:,np.newaxis]\n",
    "defos = broadcasted_defos.reshape(200, 3, 3)\n",
    "print('{} deformed structures will be calculated.'.format(len(defos)))\n",
    "\n",
    "# create the workflow and load it in launchpad\n",
    "from atomate.vasp.workflows.base.deformations import get_wf_deformations\n",
    "from atomate.vasp.powerups import add_modify_incar\n",
    "from fireworks import LaunchPad\n",
    "\n",
    "API_KEY = None # If None, will use the one from your ~/.pmgrc.yaml. Otherwise string of API_KEY\n",
    "LAUNCHPAD_FILE = '/Users/brandon/.fireworks/my_launchpad.yaml' # If None, will try to autoload from FW_CONFIG_FILE environment variable. Otherwise string of file path\n",
    "MP_ID = 'mp-46' # materials project id of the structure. mp-72 is the P6/mmm Ti\n",
    "# mp-46 is P6_3/mmc\n",
    "# mp-6985 is Fm-3m\n",
    "# mp-73 is Im-3m\n",
    "\n",
    "if API_KEY:\n",
    "    mpr = MPRester(API_KEY)\n",
    "else:\n",
    "    mpr = MPRester()\n",
    "\n",
    "if LAUNCHPAD_FILE:\n",
    "    lpad = LaunchPad.from_file(LAUNCHPAD_FILE)\n",
    "else:\n",
    "    lpad = LaunchPad.auto_load()\n",
    "\n",
    "# here the values in the linspace are the scaling factor for cell volume. E.g. -0.1 = 90%\n",
    "# cubic_transformations = [np.eye(3)*((x+1)**(1.0/3.0)) for x in np.linspace(-0.1, 0.1, number_of_deformations)]\n",
    "\n",
    "# construct the workflow\n",
    "struct = hcp_ti\n",
    "wf = get_wf_deformations(struct, defos, name=\"deformation\")\n",
    "wf = add_modify_incar(wf, modify_incar_params={\"incar_update\":{\"SIGMA\":0.2, \"ISMEAR\":1}})\n",
    "lpad.add_wf(wf)"
   ]
  },
  {
   "cell_type": "code",
   "execution_count": 21,
   "metadata": {
    "collapsed": false,
    "deletable": true,
    "editable": true
   },
   "outputs": [
    {
     "data": {
      "text/plain": [
       "82"
      ]
     },
     "execution_count": 21,
     "metadata": {},
     "output_type": "execute_result"
    }
   ],
   "source": [
    "lpad.workflows.count()"
   ]
  },
  {
   "cell_type": "code",
   "execution_count": 103,
   "metadata": {
    "collapsed": false,
    "deletable": true,
    "editable": true
   },
   "outputs": [
    {
     "name": "stdout",
     "output_type": "stream",
     "text": [
      "[[ 0.  0.  0.]\n",
      " [ 0.  0.  0.]\n",
      " [ 0.  0.  0.]]\n",
      "2.93915881\n",
      "2.93915881664\n",
      "4.64117095\n",
      "0.0\n",
      "0.0\n",
      "0.0\n"
     ]
    }
   ],
   "source": [
    ""
   ]
  },
  {
   "cell_type": "code",
   "execution_count": null,
   "metadata": {
    "collapsed": true,
    "deletable": true,
    "editable": true
   },
   "outputs": [],
   "source": [
    ""
   ]
  }
 ],
 "metadata": {
  "kernelspec": {
   "display_name": "Python 2",
   "language": "python",
   "name": "python2"
  },
  "language_info": {
   "codemirror_mode": {
    "name": "ipython",
    "version": 2.0
   },
   "file_extension": ".py",
   "mimetype": "text/x-python",
   "name": "python",
   "nbconvert_exporter": "python",
   "pygments_lexer": "ipython2",
   "version": "2.7.13"
  }
 },
 "nbformat": 4,
 "nbformat_minor": 0
}